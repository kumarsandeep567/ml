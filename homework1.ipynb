{
 "cells": [
  {
   "cell_type": "markdown",
   "id": "c0551877",
   "metadata": {},
   "source": [
    "Q1"
   ]
  },
  {
   "cell_type": "code",
   "execution_count": 1,
   "id": "b01dad8b",
   "metadata": {},
   "outputs": [
    {
     "data": {
      "text/plain": [
       "'2.3.3'"
      ]
     },
     "execution_count": 1,
     "metadata": {},
     "output_type": "execute_result"
    }
   ],
   "source": [
    "import pandas as pd\n",
    "\n",
    "pd.__version__"
   ]
  },
  {
   "cell_type": "code",
   "execution_count": 2,
   "id": "06e44e25",
   "metadata": {},
   "outputs": [
    {
     "name": "stdout",
     "output_type": "stream",
     "text": [
      "   engine_displacement  num_cylinders  horsepower  vehicle_weight  \\\n",
      "0                  170            3.0       159.0     3413.433759   \n",
      "1                  130            5.0        97.0     3149.664934   \n",
      "2                  170            NaN        78.0     3079.038997   \n",
      "3                  220            4.0         NaN     2542.392402   \n",
      "4                  210            1.0       140.0     3460.870990   \n",
      "\n",
      "   acceleration  model_year  origin fuel_type         drivetrain  num_doors  \\\n",
      "0          17.7        2003  Europe  Gasoline    All-wheel drive        0.0   \n",
      "1          17.8        2007     USA  Gasoline  Front-wheel drive        0.0   \n",
      "2          15.1        2018  Europe  Gasoline  Front-wheel drive        0.0   \n",
      "3          20.2        2009     USA    Diesel    All-wheel drive        2.0   \n",
      "4          14.4        2009  Europe  Gasoline    All-wheel drive        2.0   \n",
      "\n",
      "   fuel_efficiency_mpg  \n",
      "0            13.231729  \n",
      "1            13.688217  \n",
      "2            14.246341  \n",
      "3            16.912736  \n",
      "4            12.488369  \n"
     ]
    }
   ],
   "source": [
    "df = pd.read_csv('car_fuel_efficiency.csv')\n",
    "\n",
    "print(df.head())"
   ]
  },
  {
   "cell_type": "markdown",
   "id": "35b02c39",
   "metadata": {},
   "source": [
    "Q2"
   ]
  },
  {
   "cell_type": "code",
   "execution_count": 6,
   "id": "acd708a0",
   "metadata": {},
   "outputs": [
    {
     "data": {
      "text/plain": [
       "9704"
      ]
     },
     "execution_count": 6,
     "metadata": {},
     "output_type": "execute_result"
    }
   ],
   "source": [
    "df.shape[0]"
   ]
  },
  {
   "cell_type": "markdown",
   "id": "798ddfb5",
   "metadata": {},
   "source": [
    "Q3"
   ]
  },
  {
   "cell_type": "code",
   "execution_count": 7,
   "id": "3288ae60",
   "metadata": {},
   "outputs": [
    {
     "name": "stdout",
     "output_type": "stream",
     "text": [
      "fuel_type\n",
      "Gasoline    4898\n",
      "Diesel      4806\n",
      "Name: count, dtype: int64\n"
     ]
    }
   ],
   "source": [
    "fuel_type_counts = df['fuel_type'].value_counts()\n",
    "print(fuel_type_counts)"
   ]
  },
  {
   "cell_type": "markdown",
   "id": "28a82d78",
   "metadata": {},
   "source": [
    "Q4"
   ]
  },
  {
   "cell_type": "code",
   "execution_count": 9,
   "id": "8f100c6b",
   "metadata": {},
   "outputs": [
    {
     "name": "stdout",
     "output_type": "stream",
     "text": [
      "4\n"
     ]
    }
   ],
   "source": [
    "columns_with_missing = df.isnull().any()\n",
    "count_of_columns_with_missing = columns_with_missing.sum()\n",
    "\n",
    "print(count_of_columns_with_missing)"
   ]
  },
  {
   "cell_type": "markdown",
   "id": "3cb8e780",
   "metadata": {},
   "source": [
    "Q5"
   ]
  },
  {
   "cell_type": "code",
   "execution_count": 10,
   "id": "2c8ae48e",
   "metadata": {},
   "outputs": [
    {
     "name": "stdout",
     "output_type": "stream",
     "text": [
      "23.759122836520497\n"
     ]
    }
   ],
   "source": [
    "asia_cars = df[df['origin'] == 'Asia']\n",
    "max_mpg_asia = asia_cars['fuel_efficiency_mpg'].max()\n",
    "\n",
    "print(max_mpg_asia)"
   ]
  },
  {
   "cell_type": "markdown",
   "id": "34a3851e",
   "metadata": {},
   "source": [
    "Q6"
   ]
  },
  {
   "cell_type": "code",
   "execution_count": 11,
   "id": "8d669ba2",
   "metadata": {},
   "outputs": [
    {
     "name": "stdout",
     "output_type": "stream",
     "text": [
      "Initial Median Horsepower: 149.0\n",
      "Most Frequent Horsepower (Mode): 152.0\n",
      "Final Median Horsepower (After imputation with Mode): 152.0\n"
     ]
    }
   ],
   "source": [
    "# Find the median value of the horsepower column in the dataset.\n",
    "initial_median_hp = df['horsepower'].median()\n",
    "print(f\"Initial Median Horsepower: {initial_median_hp}\")\n",
    "\n",
    "# Next, calculate the most frequent value of the same horsepower column.\n",
    "most_frequent_hp = df['horsepower'].mode()[0]\n",
    "print(f\"Most Frequent Horsepower (Mode): {most_frequent_hp}\")\n",
    "\n",
    "# Use the fillna method to fill the missing values in the horsepower column with the most frequent value from the previous step.\n",
    "df['horsepower_imputed'] = df['horsepower'].fillna(most_frequent_hp)\n",
    "\n",
    "# Now, calculate the median value of horsepower once again.\n",
    "final_median_hp = df['horsepower_imputed'].median()\n",
    "print(f\"Final Median Horsepower (After imputation with Mode): {final_median_hp}\")"
   ]
  },
  {
   "cell_type": "markdown",
   "id": "8913ef2d",
   "metadata": {},
   "source": [
    "Q7"
   ]
  },
  {
   "cell_type": "code",
   "execution_count": 15,
   "id": "8df6a729",
   "metadata": {},
   "outputs": [
    {
     "name": "stdout",
     "output_type": "stream",
     "text": [
      "Shape of X: (7, 2)\n",
      "Shape of y: (7,)\n",
      "\n",
      "--- Linear Algebra Results ---\n",
      "Weight vector w:\n",
      "[0.01386421 0.5049067 ]\n",
      "Sum of all elements in w: 0.5187709081074016\n"
     ]
    }
   ],
   "source": [
    "import numpy as np\n",
    "\n",
    "# 1. Select all the cars from Asia, 2. Select only columns vehicle_weight and model_year\n",
    "asia_data = df[df['origin'] == 'Asia'][['vehicle_weight', 'model_year']]\n",
    "\n",
    "# 3. Select the first 7 values\n",
    "X_df = asia_data.head(7)\n",
    "\n",
    "# 4. Get the underlying NumPy array, X.\n",
    "X = X_df.values\n",
    "print(f\"Shape of X: {X.shape}\")\n",
    "\n",
    "# Define y. We must use only the first 5 values to match the 5 rows of X.\n",
    "y = np.array([1100, 1300, 800, 900, 1000, 1100, 1200])\n",
    "print(f\"Shape of y: {y.shape}\")\n",
    "\n",
    "# 5. Compute matrix-matrix multiplication between the transpose of X and X. To get the transpose, use X.T. Let's call the result XTX.\n",
    "XTX = X.T @ X\n",
    "\n",
    "# 6. Invert XTX\n",
    "try:\n",
    "    XTX_inv = np.linalg.inv(XTX)\n",
    "except np.linalg.LinAlgError:\n",
    "    print(\"Error: Matrix XTX is singular and cannot be inverted.\")\n",
    "\n",
    "# 8. Multiply the inverse of XTX with the transpose of X, and then multiply the result by y. Call the result w.\n",
    "w = XTX_inv @ X.T @ y\n",
    "\n",
    "# 9. What's the sum of all the elements of the result?\n",
    "sum_of_w = w.sum()\n",
    "\n",
    "print(\"\\n--- Linear Algebra Results ---\")\n",
    "print(f\"Weight vector w:\\n{w}\")\n",
    "print(f\"Sum of all elements in w: {sum_of_w}\")"
   ]
  }
 ],
 "metadata": {
  "kernelspec": {
   "display_name": "mlzoom (3.12.11)",
   "language": "python",
   "name": "python3"
  },
  "language_info": {
   "codemirror_mode": {
    "name": "ipython",
    "version": 3
   },
   "file_extension": ".py",
   "mimetype": "text/x-python",
   "name": "python",
   "nbconvert_exporter": "python",
   "pygments_lexer": "ipython3",
   "version": "3.12.11"
  }
 },
 "nbformat": 4,
 "nbformat_minor": 5
}
